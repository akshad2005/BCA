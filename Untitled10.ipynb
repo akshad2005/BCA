{
 "cells": [
  {
   "cell_type": "code",
   "execution_count": 2,
   "id": "c9e0f686-d7e7-44eb-b3fb-8ff4d432fd5a",
   "metadata": {},
   "outputs": [],
   "source": [
    "s=\"this is my First python programming class and i am learNING python string and its function\""
   ]
  },
  {
   "cell_type": "code",
   "execution_count": 6,
   "id": "af4132d5-d71a-46d6-9d8b-d0e73f6f9591",
   "metadata": {},
   "outputs": [
    {
     "data": {
      "text/plain": [
       "'h   r tnrrmglsnimeNGyosi dtfco'"
      ]
     },
     "execution_count": 6,
     "metadata": {},
     "output_type": "execute_result"
    }
   ],
   "source": [
    "s[1:301:3]"
   ]
  },
  {
   "cell_type": "code",
   "execution_count": 7,
   "id": "37f14c37-26d3-48b7-931f-798fc78130c8",
   "metadata": {},
   "outputs": [],
   "source": [
    "s1 = \"we are learning problem solving using computation\""
   ]
  },
  {
   "cell_type": "code",
   "execution_count": 8,
   "id": "d85dd17b-ce3d-4615-a3ef-b16e75d1fb63",
   "metadata": {},
   "outputs": [
    {
     "data": {
      "text/plain": [
       "'eaela'"
      ]
     },
     "execution_count": 8,
     "metadata": {},
     "output_type": "execute_result"
    }
   ],
   "source": [
    "# extract data from 1 to 10 with a jump of 4 \n",
    "s1[1:11:2]"
   ]
  },
  {
   "cell_type": "code",
   "execution_count": 10,
   "id": "716e3cdc-6aa9-4298-8ed2-3b75fe99aa2f",
   "metadata": {},
   "outputs": [
    {
     "data": {
      "text/plain": [
       "'this is my first programming class i am learning python string and its function'"
      ]
     },
     "execution_count": 10,
     "metadata": {},
     "output_type": "execute_result"
    }
   ],
   "source": [
    "'this is my first programming class i am learning python string and its function'"
   ]
  },
  {
   "cell_type": "code",
   "execution_count": 11,
   "id": "09f01ded-4dea-4a2e-8f45-e9fb6952919e",
   "metadata": {},
   "outputs": [],
   "source": [
    "exp= \"this\\tis\\ta\\texample\""
   ]
  },
  {
   "cell_type": "code",
   "execution_count": 12,
   "id": "68f04bac-d92b-4e16-8273-fbf9c7fab6c0",
   "metadata": {},
   "outputs": [
    {
     "data": {
      "text/plain": [
       "'this    is      a       example'"
      ]
     },
     "execution_count": 12,
     "metadata": {},
     "output_type": "execute_result"
    }
   ],
   "source": [
    "exp.expandtabs()"
   ]
  },
  {
   "cell_type": "code",
   "execution_count": 17,
   "id": "129e1b37-140b-4d76-aa90-c077a7046c6e",
   "metadata": {},
   "outputs": [
    {
     "data": {
      "text/plain": [
       "'hey!! sankalp'"
      ]
     },
     "execution_count": 17,
     "metadata": {},
     "output_type": "execute_result"
    }
   ],
   "source": [
    "#1 example of strip:\n",
    "a= \"@@@22@hey!! sankalp@2@@@\"\n",
    "a.strip(\"@2\") # removes all @2only from the right side"
   ]
  },
  {
   "cell_type": "code",
   "execution_count": 21,
   "id": "1feb7ee0-24eb-45c4-87cb-674add8d6a4e",
   "metadata": {},
   "outputs": [
    {
     "ename": "AttributeError",
     "evalue": "'str' object has no attribute 'lsrip'",
     "output_type": "error",
     "traceback": [
      "\u001b[0;31m---------------------------------------------------------------------------\u001b[0m",
      "\u001b[0;31mAttributeError\u001b[0m                            Traceback (most recent call last)",
      "Cell \u001b[0;32mIn[21], line 3\u001b[0m\n\u001b[1;32m      1\u001b[0m \u001b[38;5;66;03m#2 example of lstrip:\u001b[39;00m\n\u001b[1;32m      2\u001b[0m a2\u001b[38;5;241m=\u001b[39m \u001b[38;5;124m\"\u001b[39m\u001b[38;5;124m@@@22@hey!! sankalp@2@@@\u001b[39m\u001b[38;5;124m\"\u001b[39m\n\u001b[0;32m----> 3\u001b[0m a2\u001b[38;5;241m.\u001b[39m lsrip(\u001b[38;5;124m\"\u001b[39m\u001b[38;5;124m@2\u001b[39m\u001b[38;5;124m\"\u001b[39m)\n",
      "\u001b[0;31mAttributeError\u001b[0m: 'str' object has no attribute 'lsrip'"
     ]
    }
   ],
   "source": [
    "#2 example of lstrip:\n",
    "a1= \"@@@22@hey!! sankalp@2@@@\"\n",
    "a1. lsrip(\"@2\") # removes all @2 only from the left side "
   ]
  },
  {
   "cell_type": "code",
   "execution_count": null,
   "id": "e9a6f98b-f57a-4646-b0cf-3a0f6b1d3911",
   "metadata": {},
   "outputs": [],
   "source": []
  }
 ],
 "metadata": {
  "kernelspec": {
   "display_name": "Python 3 (ipykernel)",
   "language": "python",
   "name": "python3"
  },
  "language_info": {
   "codemirror_mode": {
    "name": "ipython",
    "version": 3
   },
   "file_extension": ".py",
   "mimetype": "text/x-python",
   "name": "python",
   "nbconvert_exporter": "python",
   "pygments_lexer": "ipython3",
   "version": "3.12.4"
  }
 },
 "nbformat": 4,
 "nbformat_minor": 5
}
